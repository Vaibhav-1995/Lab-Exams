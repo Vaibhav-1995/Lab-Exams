{
  "nbformat": 4,
  "nbformat_minor": 0,
  "metadata": {
    "colab": {
      "name": "Python Test.ipynb",
      "provenance": [],
      "collapsed_sections": []
    },
    "kernelspec": {
      "name": "python3",
      "display_name": "Python 3"
    },
    "language_info": {
      "name": "python"
    }
  },
  "cells": [
    {
      "cell_type": "markdown",
      "source": [
        "Q.2) Write code to find the average of ‘n’\n",
        "numbers entered by the user to function avg ( ).\n",
        "Ex: avg (10, 20, 30, 40) => average is: 70\n",
        "avg (5, 10, 15) => average is: **10**"
      ],
      "metadata": {
        "id": "cjTIOBwImE5U"
      }
    },
    {
      "cell_type": "code",
      "execution_count": 23,
      "metadata": {
        "colab": {
          "base_uri": "https://localhost:8080/"
        },
        "id": "tc_96-j9eQq9",
        "outputId": "7347af30-c930-408d-fa69-6bd39ab3c14e"
      },
      "outputs": [
        {
          "output_type": "stream",
          "name": "stdout",
          "text": [
            "Enter the number:5\n",
            "Enter the number:10\n",
            "Enter the number:15\n",
            "Enter the number:\n",
            "3\n",
            "Average: 10.0\n"
          ]
        }
      ],
      "source": [
        "a=[]\n",
        "while True:\n",
        "    e=input(\"Enter the number:\")\n",
        "    if e=='':\n",
        "        break\n",
        "    a.append(float(e))\n",
        "print(len(a))\n",
        "avg=sum(a)/len(a)\n",
        "print(\"Average:\",avg)"
      ]
    },
    {
      "cell_type": "markdown",
      "source": [
        "Q.3) Print\n",
        "1\n",
        "0 1\n",
        "0 1 0\n",
        "1 0 1 0\n",
        "1 0 1 0 1\n",
        "\n"
      ],
      "metadata": {
        "id": "RTBxWr53mOkS"
      }
    },
    {
      "cell_type": "code",
      "source": [
        "for i in range(1,6):\n",
        "  for j in range(1,i+1):\n",
        "    print(j%2,end=' ')\n",
        "  print()"
      ],
      "metadata": {
        "colab": {
          "base_uri": "https://localhost:8080/"
        },
        "id": "rkHOUtyxmSnN",
        "outputId": "98f4ff56-4d2a-4fb8-bc0b-a5018133c5c3"
      },
      "execution_count": 5,
      "outputs": [
        {
          "output_type": "stream",
          "name": "stdout",
          "text": [
            "1 \n",
            "1 0 \n",
            "1 0 1 \n",
            "1 0 1 0 \n",
            "1 0 1 0 1 \n"
          ]
        }
      ]
    },
    {
      "cell_type": "markdown",
      "source": [
        "Q.4) Write a code to accept a number & print\n",
        "in words.\n",
        "Ex: 123\n",
        "Three\n",
        "Two\n",
        "One"
      ],
      "metadata": {
        "id": "Cvpcya7YmT14"
      }
    },
    {
      "cell_type": "code",
      "source": [
        "a=input(\"Enter the numbers: \")\n",
        "for i in a:\n",
        "  if i==1:\n",
        "    b=One\n",
        "    print(b)"
      ],
      "metadata": {
        "colab": {
          "base_uri": "https://localhost:8080/"
        },
        "id": "WfbWIrt6mXhq",
        "outputId": "63a42d35-9dc7-4c7e-acbf-76b1be7ed92c"
      },
      "execution_count": 54,
      "outputs": [
        {
          "name": "stdout",
          "output_type": "stream",
          "text": [
            "Enter the numbers: 1\n"
          ]
        }
      ]
    },
    {
      "cell_type": "markdown",
      "source": [
        "Q.5) Create class"
      ],
      "metadata": {
        "id": "FTEvadBWmZWX"
      }
    },
    {
      "cell_type": "code",
      "source": [
        "class Human:\n",
        "  def setname(self,name):\n",
        "    self.name=name\n",
        "  def setgender(self,male):\n",
        "    self.gender=male\n",
        "  def intro(self):\n",
        "    print(\"My name is\",self.name,\"and I am\",self.gender)\n",
        "\n",
        "h=Human()\n",
        "h.setname(\"Suraj\")\n",
        "h.setgender(\"Male\")\n",
        "h.intro()\n"
      ],
      "metadata": {
        "colab": {
          "base_uri": "https://localhost:8080/"
        },
        "id": "6xWaWMTKmcVK",
        "outputId": "42925f01-b12c-4116-c999-a9d354294379"
      },
      "execution_count": 26,
      "outputs": [
        {
          "output_type": "stream",
          "name": "stdout",
          "text": [
            "My name is Suraj and I am Male\n"
          ]
        }
      ]
    },
    {
      "cell_type": "markdown",
      "source": [
        "Q.8) Print\n",
        "1\n",
        "3 3\n",
        "5 5 5\n",
        "6 6 6 6\n",
        "7 7 7 7 7\n"
      ],
      "metadata": {
        "id": "klVGmzHRmc1J"
      }
    },
    {
      "cell_type": "code",
      "source": [
        "for i in range(1,8,2):\n",
        "  for j in range(1,i+1,2):\n",
        "    print(i,end=\"\")\n",
        "  print()\n"
      ],
      "metadata": {
        "colab": {
          "base_uri": "https://localhost:8080/"
        },
        "id": "1VUHbuLrmkBw",
        "outputId": "d80e54db-b254-4d01-f724-8ef93d4b1e9a"
      },
      "execution_count": 20,
      "outputs": [
        {
          "output_type": "stream",
          "name": "stdout",
          "text": [
            "1\n",
            "33\n",
            "555\n",
            "7777\n"
          ]
        }
      ]
    },
    {
      "cell_type": "markdown",
      "source": [
        "Q.10) Create menu driven code for\n",
        "1) Accept 2 numbers\n",
        "2) Add\n",
        "3) Sub\n",
        "4) Mul\n",
        "5) Div\n"
      ],
      "metadata": {
        "id": "inhzNyF2mmB9"
      }
    },
    {
      "cell_type": "code",
      "source": [
        "n=float(input(\"Enter first number: \"))\n",
        "m=float(input(\"Enter second number: \"))\n",
        "Add=n+m\n",
        "print(\"Add=\",Add)\n",
        "Sub=n-m\n",
        "print(\"Sub=\",Sub)\n",
        "Mul=n*3\n",
        "print(\"Mul=\",Mul)\n",
        "Div=n/m\n",
        "print(\"Div=\",Div)"
      ],
      "metadata": {
        "colab": {
          "base_uri": "https://localhost:8080/"
        },
        "id": "Eltxr-tfmsN_",
        "outputId": "d9bfa3ea-3726-4e60-84b7-70800e3e1774"
      },
      "execution_count": 31,
      "outputs": [
        {
          "output_type": "stream",
          "name": "stdout",
          "text": [
            "Enter first number: 20\n",
            "Enter second number: 10\n",
            "Add= 30.0\n",
            "Sub= 10.0\n",
            "Mul= 60.0\n",
            "Div= 2.0\n"
          ]
        }
      ]
    }
  ]
}