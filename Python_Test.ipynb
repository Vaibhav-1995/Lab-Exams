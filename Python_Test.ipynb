{
  "nbformat": 4,
  "nbformat_minor": 0,
  "metadata": {
    "colab": {
      "name": "Python Test.ipynb",
      "provenance": [],
      "collapsed_sections": []
    },
    "kernelspec": {
      "name": "python3",
      "display_name": "Python 3"
    },
    "language_info": {
      "name": "python"
    }
  },
  "cells": [
    {
      "cell_type": "markdown",
      "source": [
        "Q.2) Write code to find the average of ‘n’\n",
        "numbers entered by the user to function avg ( ).\n",
        "Ex: avg (10, 20, 30, 40) => average is: 70\n",
        "avg (5, 10, 15) => average is: **10**"
      ],
      "metadata": {
        "id": "cjTIOBwImE5U"
      }
    },
    {
      "cell_type": "code",
      "execution_count": 19,
      "metadata": {
        "colab": {
          "base_uri": "https://localhost:8080/",
          "height": 304
        },
        "id": "tc_96-j9eQq9",
        "outputId": "a2099e34-788e-4570-ef55-7ed6f86a9163"
      },
      "outputs": [
        {
          "output_type": "stream",
          "name": "stdout",
          "text": [
            "Enter the numbers : 5\n",
            "Enter the numbers : 10\n",
            "Enter the numbers : 15\n",
            "Enter the numbers : \n",
            "0\n"
          ]
        },
        {
          "output_type": "error",
          "ename": "ZeroDivisionError",
          "evalue": "ignored",
          "traceback": [
            "\u001b[0;31m---------------------------------------------------------------------------\u001b[0m",
            "\u001b[0;31mZeroDivisionError\u001b[0m                         Traceback (most recent call last)",
            "\u001b[0;32m<ipython-input-19-449935e598fd>\u001b[0m in \u001b[0;36m<module>\u001b[0;34m()\u001b[0m\n\u001b[1;32m      6\u001b[0m     \u001b[0ma\u001b[0m\u001b[0;34m.\u001b[0m\u001b[0mappend\u001b[0m\u001b[0;34m(\u001b[0m\u001b[0mfloat\u001b[0m\u001b[0;34m(\u001b[0m\u001b[0mn\u001b[0m\u001b[0;34m)\u001b[0m\u001b[0;34m)\u001b[0m\u001b[0;34m\u001b[0m\u001b[0;34m\u001b[0m\u001b[0m\n\u001b[1;32m      7\u001b[0m \u001b[0mprint\u001b[0m\u001b[0;34m(\u001b[0m\u001b[0mlen\u001b[0m\u001b[0;34m(\u001b[0m\u001b[0ma\u001b[0m\u001b[0;34m)\u001b[0m\u001b[0;34m)\u001b[0m\u001b[0;34m\u001b[0m\u001b[0;34m\u001b[0m\u001b[0m\n\u001b[0;32m----> 8\u001b[0;31m \u001b[0mavg\u001b[0m\u001b[0;34m=\u001b[0m\u001b[0msum\u001b[0m\u001b[0;34m(\u001b[0m\u001b[0ma\u001b[0m\u001b[0;34m)\u001b[0m\u001b[0;34m/\u001b[0m\u001b[0mlen\u001b[0m\u001b[0;34m(\u001b[0m\u001b[0ma\u001b[0m\u001b[0;34m)\u001b[0m\u001b[0;34m\u001b[0m\u001b[0;34m\u001b[0m\u001b[0m\n\u001b[0m\u001b[1;32m      9\u001b[0m \u001b[0mprint\u001b[0m\u001b[0;34m(\u001b[0m\u001b[0;34m\"Avg=\"\u001b[0m\u001b[0;34m,\u001b[0m\u001b[0mavg\u001b[0m\u001b[0;34m)\u001b[0m\u001b[0;34m\u001b[0m\u001b[0;34m\u001b[0m\u001b[0m\n",
            "\u001b[0;31mZeroDivisionError\u001b[0m: division by zero"
          ]
        }
      ],
      "source": [
        "a=[]\n",
        "while True:\n",
        "  n=input(\"Enter the numbers : \")\n",
        "  if n=='':\n",
        "    break\n",
        "    a.append(float(n))\n",
        "print(len(a))\n",
        "avg=sum(a)/len(a)\n",
        "print(\"Avg=\",avg)"
      ]
    },
    {
      "cell_type": "markdown",
      "source": [
        "Q.3) Print\n",
        "1\n",
        "0 1\n",
        "0 1 0\n",
        "1 0 1 0\n",
        "1 0 1 0 1\n",
        "\n"
      ],
      "metadata": {
        "id": "RTBxWr53mOkS"
      }
    },
    {
      "cell_type": "code",
      "source": [
        "for i in range(1,6):\n",
        "  for j in range(1,i+1):\n",
        "    print(j%2,end=' ')\n",
        "  print()"
      ],
      "metadata": {
        "colab": {
          "base_uri": "https://localhost:8080/"
        },
        "id": "rkHOUtyxmSnN",
        "outputId": "98f4ff56-4d2a-4fb8-bc0b-a5018133c5c3"
      },
      "execution_count": 5,
      "outputs": [
        {
          "output_type": "stream",
          "name": "stdout",
          "text": [
            "1 \n",
            "1 0 \n",
            "1 0 1 \n",
            "1 0 1 0 \n",
            "1 0 1 0 1 \n"
          ]
        }
      ]
    },
    {
      "cell_type": "markdown",
      "source": [
        "Q.4) Write a code to accept a number & print\n",
        "in words.\n",
        "Ex: 123\n",
        "Three\n",
        "Two\n",
        "One"
      ],
      "metadata": {
        "id": "Cvpcya7YmT14"
      }
    },
    {
      "cell_type": "code",
      "source": [
        "a=input(\"Enter the numbers: \")\n",
        "for i in a:\n",
        "  if i==1:\n",
        "    b=One\n",
        "    print(b)"
      ],
      "metadata": {
        "colab": {
          "base_uri": "https://localhost:8080/"
        },
        "id": "WfbWIrt6mXhq",
        "outputId": "63a42d35-9dc7-4c7e-acbf-76b1be7ed92c"
      },
      "execution_count": 54,
      "outputs": [
        {
          "name": "stdout",
          "output_type": "stream",
          "text": [
            "Enter the numbers: 1\n"
          ]
        }
      ]
    },
    {
      "cell_type": "markdown",
      "source": [
        "Q.5) Create class"
      ],
      "metadata": {
        "id": "FTEvadBWmZWX"
      }
    },
    {
      "cell_type": "code",
      "source": [
        "def Human():\n",
        "  def setname(self,Suraj):\n",
        "    self.name=Suraj\n",
        "  def setgender(self,Male):\n",
        "    self.gender=Male\n",
        "  def intro(self):\n",
        "    print(\"My name is\",self.name,\"and I am\",self.gender)\n",
        "\n",
        "h=Human()\n",
        "h.setname()\n",
        "h.setgender()\n"
      ],
      "metadata": {
        "colab": {
          "base_uri": "https://localhost:8080/",
          "height": 217
        },
        "id": "6xWaWMTKmcVK",
        "outputId": "db250f50-9f4c-4754-be42-2692c0bd0eae"
      },
      "execution_count": 3,
      "outputs": [
        {
          "output_type": "error",
          "ename": "AttributeError",
          "evalue": "ignored",
          "traceback": [
            "\u001b[0;31m---------------------------------------------------------------------------\u001b[0m",
            "\u001b[0;31mAttributeError\u001b[0m                            Traceback (most recent call last)",
            "\u001b[0;32m<ipython-input-3-f461bc1be4dc>\u001b[0m in \u001b[0;36m<module>\u001b[0;34m()\u001b[0m\n\u001b[1;32m      8\u001b[0m \u001b[0;34m\u001b[0m\u001b[0m\n\u001b[1;32m      9\u001b[0m \u001b[0mh\u001b[0m\u001b[0;34m=\u001b[0m\u001b[0mHuman\u001b[0m\u001b[0;34m(\u001b[0m\u001b[0;34m)\u001b[0m\u001b[0;34m\u001b[0m\u001b[0;34m\u001b[0m\u001b[0m\n\u001b[0;32m---> 10\u001b[0;31m \u001b[0mh\u001b[0m\u001b[0;34m.\u001b[0m\u001b[0msetname\u001b[0m\u001b[0;34m(\u001b[0m\u001b[0;34m)\u001b[0m\u001b[0;34m\u001b[0m\u001b[0;34m\u001b[0m\u001b[0m\n\u001b[0m\u001b[1;32m     11\u001b[0m \u001b[0mh\u001b[0m\u001b[0;34m.\u001b[0m\u001b[0msetgender\u001b[0m\u001b[0;34m(\u001b[0m\u001b[0;34m)\u001b[0m\u001b[0;34m\u001b[0m\u001b[0;34m\u001b[0m\u001b[0m\n",
            "\u001b[0;31mAttributeError\u001b[0m: 'NoneType' object has no attribute 'setname'"
          ]
        }
      ]
    },
    {
      "cell_type": "markdown",
      "source": [
        "Q.8) Print\n",
        "1\n",
        "3 3\n",
        "5 5 5\n",
        "6 6 6 6\n",
        "7 7 7 7 7\n"
      ],
      "metadata": {
        "id": "klVGmzHRmc1J"
      }
    },
    {
      "cell_type": "code",
      "source": [
        "for i in range(1,6):\n",
        "  for j in range(1,i+2):\n",
        "    print(j%2,end=\"\")\n",
        "  print()\n"
      ],
      "metadata": {
        "colab": {
          "base_uri": "https://localhost:8080/"
        },
        "id": "1VUHbuLrmkBw",
        "outputId": "c3379af1-8633-4efc-e242-31c211a50edd"
      },
      "execution_count": 3,
      "outputs": [
        {
          "output_type": "stream",
          "name": "stdout",
          "text": [
            "10\n",
            "101\n",
            "1010\n",
            "10101\n",
            "101010\n"
          ]
        }
      ]
    },
    {
      "cell_type": "markdown",
      "source": [
        "Q.10) Create menu driven code for\n",
        "1) Accept 2 numbers\n",
        "2) Add\n",
        "3) Sub\n",
        "4) Mul\n",
        "5) Div\n"
      ],
      "metadata": {
        "id": "inhzNyF2mmB9"
      }
    },
    {
      "cell_type": "code",
      "source": [
        "n=float(input(\"Enter first number: \"))\n",
        "m=float(input(\"Enter second number: \"))\n",
        "Add=n+m\n",
        "print(\"Add=\",Add)\n",
        "Sub=n-m\n",
        "print(\"Sub=\",Sub)\n",
        "Mul=n*3\n",
        "print(\"Mul=\",Mul)\n",
        "Div=n/m\n",
        "print(\"Div=\",Div)"
      ],
      "metadata": {
        "colab": {
          "base_uri": "https://localhost:8080/"
        },
        "id": "Eltxr-tfmsN_",
        "outputId": "d9bfa3ea-3726-4e60-84b7-70800e3e1774"
      },
      "execution_count": 31,
      "outputs": [
        {
          "output_type": "stream",
          "name": "stdout",
          "text": [
            "Enter first number: 20\n",
            "Enter second number: 10\n",
            "Add= 30.0\n",
            "Sub= 10.0\n",
            "Mul= 60.0\n",
            "Div= 2.0\n"
          ]
        }
      ]
    }
  ]
}